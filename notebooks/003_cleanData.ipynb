{
 "cells": [
  {
   "cell_type": "markdown",
   "metadata": {},
   "source": [
    "Este notebook se basa en la adecuada limpieza de los datos segun el analisis exploratorio de los datos hecho en el notebook 002_EDA y se creara una nueva tabla en la misma base de datos creada en Postgres pero con los datos limpios. "
   ]
  },
  {
   "cell_type": "code",
   "execution_count": null,
   "metadata": {},
   "outputs": [],
   "source": [
    "import pandas as pd "
   ]
  },
  {
   "cell_type": "code",
   "execution_count": null,
   "metadata": {},
   "outputs": [],
   "source": [
    "print(\"Current directory before change:\", os.getcwd())\n",
    "\n",
    "try:\n",
    "    \n",
    "    os.chdir(\"../\")\n",
    "    print(\"Current directory after change:\", os.getcwd())\n",
    "\n",
    "except FileNotFoundError:\n",
    "    print(\"\"\"\n",
    "        FileNotFoundError - The specified directory does not exist or you are already in the root.\n",
    "        If the code already worked once, do not run it again.\n",
    "    \"\"\")"
   ]
  }
 ],
 "metadata": {
  "language_info": {
   "name": "python"
  }
 },
 "nbformat": 4,
 "nbformat_minor": 2
}
