{
 "cells": [
  {
   "cell_type": "markdown",
   "metadata": {},
   "source": [
    "Este notebook se basa en la adecuada limpieza de los datos segun el analisis exploratorio de los datos hecho en el notebook 002_EDA y se creara una nueva tabla en la misma base de datos creada en Postgres pero con los datos limpios. "
   ]
  },
  {
   "cell_type": "code",
   "execution_count": 1,
   "metadata": {},
   "outputs": [],
   "source": [
    "import pandas as pd\n",
    "import numpy as np\n",
    "import os "
   ]
  },
  {
   "cell_type": "code",
   "execution_count": 2,
   "metadata": {},
   "outputs": [
    {
     "name": "stdout",
     "output_type": "stream",
     "text": [
      "Current directory before change: c:\\Users\\Administrador\\Desktop\\workshop_01\\notebooks\n",
      "Current directory after change: c:\\Users\\Administrador\\Desktop\\workshop_01\n"
     ]
    }
   ],
   "source": [
    "print(\"Current directory before change:\", os.getcwd())\n",
    "\n",
    "try:\n",
    "    \n",
    "    os.chdir(\"../\")\n",
    "    print(\"Current directory after change:\", os.getcwd())\n",
    "\n",
    "except FileNotFoundError:\n",
    "    print(\"\"\"\n",
    "        FileNotFoundError - The specified directory does not exist or you are already in the root.\n",
    "        If the code already worked once, do not run it again.\n",
    "    \"\"\")"
   ]
  },
  {
   "cell_type": "code",
   "execution_count": 3,
   "metadata": {},
   "outputs": [],
   "source": [
    "from db_access.connection import create_engine_connection\n",
    "engine = create_engine_connection()"
   ]
  },
  {
   "cell_type": "code",
   "execution_count": 4,
   "metadata": {},
   "outputs": [],
   "source": [
    "df = pd.read_sql(\"SELECT * FROM candidates\", engine)"
   ]
  },
  {
   "cell_type": "code",
   "execution_count": 5,
   "metadata": {},
   "outputs": [
    {
     "name": "stdout",
     "output_type": "stream",
     "text": [
      "Index(['first_name', 'last_name', 'email', 'application_date', 'country',\n",
      "       'yoe', 'seniority', 'technology', 'code_challenge_score',\n",
      "       'technical_interview_score'],\n",
      "      dtype='object')\n"
     ]
    }
   ],
   "source": [
    "df.columns = df.columns.str.strip().str.lower().str.replace(\" \", \"_\")\n",
    "print(df.columns)"
   ]
  },
  {
   "cell_type": "code",
   "execution_count": 6,
   "metadata": {},
   "outputs": [
    {
     "data": {
      "text/html": [
       "<div>\n",
       "<style scoped>\n",
       "    .dataframe tbody tr th:only-of-type {\n",
       "        vertical-align: middle;\n",
       "    }\n",
       "\n",
       "    .dataframe tbody tr th {\n",
       "        vertical-align: top;\n",
       "    }\n",
       "\n",
       "    .dataframe thead th {\n",
       "        text-align: right;\n",
       "    }\n",
       "</style>\n",
       "<table border=\"1\" class=\"dataframe\">\n",
       "  <thead>\n",
       "    <tr style=\"text-align: right;\">\n",
       "      <th></th>\n",
       "      <th>first_name</th>\n",
       "      <th>last_name</th>\n",
       "      <th>email</th>\n",
       "      <th>application_date</th>\n",
       "      <th>country</th>\n",
       "      <th>yoe</th>\n",
       "      <th>seniority</th>\n",
       "      <th>technology</th>\n",
       "      <th>code_challenge_score</th>\n",
       "      <th>technical_interview_score</th>\n",
       "    </tr>\n",
       "  </thead>\n",
       "  <tbody>\n",
       "    <tr>\n",
       "      <th>0</th>\n",
       "      <td>Bernadette</td>\n",
       "      <td>Langworth</td>\n",
       "      <td>leonard91@yahoo.com</td>\n",
       "      <td>20210226</td>\n",
       "      <td>Norway</td>\n",
       "      <td>2</td>\n",
       "      <td>Intern</td>\n",
       "      <td>Data Engineer</td>\n",
       "      <td>3</td>\n",
       "      <td>3</td>\n",
       "    </tr>\n",
       "    <tr>\n",
       "      <th>1</th>\n",
       "      <td>Camryn</td>\n",
       "      <td>Reynolds</td>\n",
       "      <td>zelda56@hotmail.com</td>\n",
       "      <td>20210909</td>\n",
       "      <td>Panama</td>\n",
       "      <td>10</td>\n",
       "      <td>Intern</td>\n",
       "      <td>Data Engineer</td>\n",
       "      <td>2</td>\n",
       "      <td>10</td>\n",
       "    </tr>\n",
       "    <tr>\n",
       "      <th>2</th>\n",
       "      <td>Larue</td>\n",
       "      <td>Spinka</td>\n",
       "      <td>okey_schultz41@gmail.com</td>\n",
       "      <td>20200414</td>\n",
       "      <td>Belarus</td>\n",
       "      <td>4</td>\n",
       "      <td>Mid-Level</td>\n",
       "      <td>Client Success</td>\n",
       "      <td>10</td>\n",
       "      <td>9</td>\n",
       "    </tr>\n",
       "    <tr>\n",
       "      <th>3</th>\n",
       "      <td>Arch</td>\n",
       "      <td>Spinka</td>\n",
       "      <td>elvera_kulas@yahoo.com</td>\n",
       "      <td>20201001</td>\n",
       "      <td>Eritrea</td>\n",
       "      <td>25</td>\n",
       "      <td>Trainee</td>\n",
       "      <td>QA Manual</td>\n",
       "      <td>7</td>\n",
       "      <td>1</td>\n",
       "    </tr>\n",
       "    <tr>\n",
       "      <th>4</th>\n",
       "      <td>Larue</td>\n",
       "      <td>Altenwerth</td>\n",
       "      <td>minnie.gislason@gmail.com</td>\n",
       "      <td>20200520</td>\n",
       "      <td>Myanmar</td>\n",
       "      <td>13</td>\n",
       "      <td>Mid-Level</td>\n",
       "      <td>Social Media Community Management</td>\n",
       "      <td>9</td>\n",
       "      <td>7</td>\n",
       "    </tr>\n",
       "    <tr>\n",
       "      <th>...</th>\n",
       "      <td>...</td>\n",
       "      <td>...</td>\n",
       "      <td>...</td>\n",
       "      <td>...</td>\n",
       "      <td>...</td>\n",
       "      <td>...</td>\n",
       "      <td>...</td>\n",
       "      <td>...</td>\n",
       "      <td>...</td>\n",
       "      <td>...</td>\n",
       "    </tr>\n",
       "    <tr>\n",
       "      <th>995</th>\n",
       "      <td>Gladys</td>\n",
       "      <td>Blanda</td>\n",
       "      <td>maynard.kreiger63@hotmail.com</td>\n",
       "      <td>20200426</td>\n",
       "      <td>India</td>\n",
       "      <td>9</td>\n",
       "      <td>Trainee</td>\n",
       "      <td>System Administration</td>\n",
       "      <td>9</td>\n",
       "      <td>9</td>\n",
       "    </tr>\n",
       "    <tr>\n",
       "      <th>996</th>\n",
       "      <td>Johanna</td>\n",
       "      <td>Little</td>\n",
       "      <td>maiya45@hotmail.com</td>\n",
       "      <td>20200401</td>\n",
       "      <td>Aruba</td>\n",
       "      <td>8</td>\n",
       "      <td>Junior</td>\n",
       "      <td>Sales</td>\n",
       "      <td>6</td>\n",
       "      <td>10</td>\n",
       "    </tr>\n",
       "    <tr>\n",
       "      <th>997</th>\n",
       "      <td>Sister</td>\n",
       "      <td>Lindgren</td>\n",
       "      <td>erling.gaylord53@hotmail.com</td>\n",
       "      <td>20180612</td>\n",
       "      <td>Iceland</td>\n",
       "      <td>6</td>\n",
       "      <td>Intern</td>\n",
       "      <td>Mulesoft</td>\n",
       "      <td>2</td>\n",
       "      <td>0</td>\n",
       "    </tr>\n",
       "    <tr>\n",
       "      <th>998</th>\n",
       "      <td>Tyrese</td>\n",
       "      <td>Wilkinson</td>\n",
       "      <td>name68@gmail.com</td>\n",
       "      <td>20220206</td>\n",
       "      <td>Andorra</td>\n",
       "      <td>28</td>\n",
       "      <td>Intern</td>\n",
       "      <td>Security Compliance</td>\n",
       "      <td>0</td>\n",
       "      <td>9</td>\n",
       "    </tr>\n",
       "    <tr>\n",
       "      <th>999</th>\n",
       "      <td>Arlo</td>\n",
       "      <td>Ortiz</td>\n",
       "      <td>santos_collins77@hotmail.com</td>\n",
       "      <td>20210528</td>\n",
       "      <td>Bangladesh</td>\n",
       "      <td>11</td>\n",
       "      <td>Mid-Level</td>\n",
       "      <td>Adobe Experience Manager</td>\n",
       "      <td>0</td>\n",
       "      <td>5</td>\n",
       "    </tr>\n",
       "  </tbody>\n",
       "</table>\n",
       "<p>1000 rows × 10 columns</p>\n",
       "</div>"
      ],
      "text/plain": [
       "     first_name   last_name                          email  application_date  \\\n",
       "0    Bernadette   Langworth            leonard91@yahoo.com          20210226   \n",
       "1        Camryn    Reynolds            zelda56@hotmail.com          20210909   \n",
       "2         Larue      Spinka       okey_schultz41@gmail.com          20200414   \n",
       "3          Arch      Spinka         elvera_kulas@yahoo.com          20201001   \n",
       "4         Larue  Altenwerth      minnie.gislason@gmail.com          20200520   \n",
       "..          ...         ...                            ...               ...   \n",
       "995      Gladys      Blanda  maynard.kreiger63@hotmail.com          20200426   \n",
       "996     Johanna      Little            maiya45@hotmail.com          20200401   \n",
       "997      Sister    Lindgren   erling.gaylord53@hotmail.com          20180612   \n",
       "998      Tyrese   Wilkinson               name68@gmail.com          20220206   \n",
       "999        Arlo       Ortiz   santos_collins77@hotmail.com          20210528   \n",
       "\n",
       "        country  yoe  seniority                         technology  \\\n",
       "0        Norway    2     Intern                      Data Engineer   \n",
       "1        Panama   10     Intern                      Data Engineer   \n",
       "2       Belarus    4  Mid-Level                     Client Success   \n",
       "3       Eritrea   25    Trainee                          QA Manual   \n",
       "4       Myanmar   13  Mid-Level  Social Media Community Management   \n",
       "..          ...  ...        ...                                ...   \n",
       "995       India    9    Trainee              System Administration   \n",
       "996       Aruba    8     Junior                              Sales   \n",
       "997     Iceland    6     Intern                           Mulesoft   \n",
       "998     Andorra   28     Intern                Security Compliance   \n",
       "999  Bangladesh   11  Mid-Level           Adobe Experience Manager   \n",
       "\n",
       "     code_challenge_score  technical_interview_score  \n",
       "0                       3                          3  \n",
       "1                       2                         10  \n",
       "2                      10                          9  \n",
       "3                       7                          1  \n",
       "4                       9                          7  \n",
       "..                    ...                        ...  \n",
       "995                     9                          9  \n",
       "996                     6                         10  \n",
       "997                     2                          0  \n",
       "998                     0                          9  \n",
       "999                     0                          5  \n",
       "\n",
       "[1000 rows x 10 columns]"
      ]
     },
     "execution_count": 6,
     "metadata": {},
     "output_type": "execute_result"
    }
   ],
   "source": [
    "df['application_date'] = pd.to_datetime(df['application_date'], errors='coerce')\n",
    "df['application_date'] = df['application_date'].dt.strftime('%Y%m%d').astype(int)\n",
    "df.head(1000)"
   ]
  },
  {
   "cell_type": "markdown",
   "metadata": {},
   "source": []
  },
  {
   "cell_type": "code",
   "execution_count": 7,
   "metadata": {},
   "outputs": [
    {
     "data": {
      "text/plain": [
       "array(['Data Engineer', 'Client Success', 'QA Manual',\n",
       "       'Social Media Community Management', 'Adobe Experience Manager',\n",
       "       'Sales', 'Mulesoft', 'DevOps', 'Development - CMS Backend',\n",
       "       'Salesforce', 'System Administration', 'Security',\n",
       "       'Game Development', 'Development - CMS Frontend',\n",
       "       'Security Compliance', 'Development - Backend', 'Design',\n",
       "       'Business Analytics / Project Management',\n",
       "       'Development - Frontend', 'Development - FullStack',\n",
       "       'Business Intelligence', 'Database Administration',\n",
       "       'QA Automation', 'Technical Writing'], dtype=object)"
      ]
     },
     "execution_count": 7,
     "metadata": {},
     "output_type": "execute_result"
    }
   ],
   "source": [
    "df[\"technology\"].unique()"
   ]
  },
  {
   "cell_type": "code",
   "execution_count": 8,
   "metadata": {},
   "outputs": [],
   "source": [
    "technology_mapping = {\n",
    "    'Data Engineer': 'Data & Analytics',\n",
    "    'Business Analytics / Project Management': 'Data & Analytics',\n",
    "    'Business Intelligence': 'Data & Analytics',\n",
    "\n",
    "    'Client Success': 'Business & Strategy',\n",
    "    'Sales': 'Business & Strategy',\n",
    "\n",
    "    'QA Manual': 'Quality Assurance',\n",
    "    'QA Automation': 'Quality Assurance',\n",
    "\n",
    "    'Adobe Experience Manager': 'Software Engineering',\n",
    "    'Development - CMS Backend': 'Software Engineering',\n",
    "    'Development - CMS Frontend': 'Software Engineering',\n",
    "    'Development - Backend': 'Software Engineering',\n",
    "    'Development - Frontend': 'Software Engineering',\n",
    "    'Development - FullStack': 'Software Engineering',\n",
    "    'Game Development': 'Game Engineering',\n",
    "  \n",
    "    'Mulesoft': 'Automation & DevOps',\n",
    "    'DevOps': 'Automation & DevOps',\n",
    "    'Salesforce': 'Automation & DevOps',\n",
    "  \n",
    "    'System Administration': 'IT Infrastructure',\n",
    "    'Database Administration': 'IT Infrastructure',\n",
    "\n",
    "    'Security': 'Security & Compliance',\n",
    "    'Security Compliance': 'Security & Compliance',\n",
    "    'Design': 'Design & Creativity',\n",
    "    'Social Media Community Management': 'Marketing & Communications',\n",
    "    'Technical Writing': 'Content & Documentation'\n",
    "}\n",
    "\n",
    "df['technology_category'] = df['technology'].map(technology_mapping).fillna('Other')"
   ]
  },
  {
   "cell_type": "code",
   "execution_count": 9,
   "metadata": {},
   "outputs": [],
   "source": [
    "df['hired'] = np.where((df['code_challenge_score'] >= 7) & (df['technical_interview_score'] >= 7), True, False)"
   ]
  },
  {
   "cell_type": "code",
   "execution_count": null,
   "metadata": {},
   "outputs": [
    {
     "name": "stdout",
     "output_type": "stream",
     "text": [
      "📊 Total de contratados: 6698\n"
     ]
    }
   ],
   "source": [
    "total_hired = df['hired'].sum()\n",
    "print(f\"Total de contratados: {total_hired}\")\n"
   ]
  },
  {
   "cell_type": "code",
   "execution_count": 11,
   "metadata": {},
   "outputs": [
    {
     "name": "stdout",
     "output_type": "stream",
     "text": [
      "Carga exitosa en una nueva tabla \n"
     ]
    }
   ],
   "source": [
    "df.to_sql('candidates_eda', engine, if_exists='replace', index=False)\n",
    "print(\"Carga exitosa en una nueva tabla \")"
   ]
  },
  {
   "cell_type": "markdown",
   "metadata": {},
   "source": [
    "- cambiar nombre de las columnas con _\n",
    "- transfromar las fechas en enter\n",
    "- crear una columna llamada hired que diga si esta contratado o no ( code_challenge_score y technical_interview_score deben ser ambos mayores o iguales a 7 para ser contratado)\n",
    "- normalizar todas las columnas \n"
   ]
  }
 ],
 "metadata": {
  "kernelspec": {
   "display_name": "Python 3",
   "language": "python",
   "name": "python3"
  },
  "language_info": {
   "codemirror_mode": {
    "name": "ipython",
    "version": 3
   },
   "file_extension": ".py",
   "mimetype": "text/x-python",
   "name": "python",
   "nbconvert_exporter": "python",
   "pygments_lexer": "ipython3",
   "version": "3.11.5"
  }
 },
 "nbformat": 4,
 "nbformat_minor": 2
}
